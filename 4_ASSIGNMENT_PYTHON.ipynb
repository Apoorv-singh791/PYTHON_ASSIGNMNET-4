{
 "cells": [
  {
   "cell_type": "markdown",
   "id": "3687e411-603c-4dca-bd71-0d245c838507",
   "metadata": {},
   "source": [
    "Q1. Create a python program to sort the given list of tuples based on integer value using a \n",
    "lambda function."
   ]
  },
  {
   "cell_type": "markdown",
   "id": "c3716dd5-6a64-46cc-950d-c1c0880c4790",
   "metadata": {},
   "source": [
    "[('Sachin Tendulkar', 34357), ('Ricky Ponting', 27483), ('Jack Kallis', 25534), ('Virat Kohli', 24936)]"
   ]
  },
  {
   "cell_type": "markdown",
   "id": "84ae68c1-2a6f-4570-b4d9-21e072034c79",
   "metadata": {},
   "source": [
    "A1. SORTING THE ABOVE LIST IN ASCENDING ORDER"
   ]
  },
  {
   "cell_type": "code",
   "execution_count": 68,
   "id": "a2226b81-a21d-4e49-a9fd-d278ae3cd494",
   "metadata": {},
   "outputs": [
    {
     "name": "stdout",
     "output_type": "stream",
     "text": [
      "[('Virat Kohli', 24936), ('Jack Kallis', 25534), ('Ricky Ponting', 27483), ('Sachin Tendulkar', 34357)]\n"
     ]
    }
   ],
   "source": [
    "l=[('Sachin Tendulkar', 34357), ('Ricky Ponting', 27483), ('Jack Kallis', 25534), ('Virat Kohli', 24936)]\n",
    "l.sort(key=lambda x: x[1])\n",
    "print(l)"
   ]
  },
  {
   "cell_type": "markdown",
   "id": "76181faa-b9bd-4cd7-8aa7-62324f2ac01b",
   "metadata": {},
   "source": [
    "Q2. Write a Python Program to find the squares of all the numbers in the given list of integers using \n",
    "lambda and map functions.\n",
    "\n",
    "\n",
    "\n",
    "[1, 2, 3, 4, 5, 6, 7, 8, 9, 10]"
   ]
  },
  {
   "cell_type": "markdown",
   "id": "98772f9c-9d12-4624-be4f-37ad6b9bc325",
   "metadata": {},
   "source": [
    "A2.  "
   ]
  },
  {
   "cell_type": "code",
   "execution_count": 69,
   "id": "480f5d46-560a-4242-a452-9a0191aaf3e3",
   "metadata": {},
   "outputs": [
    {
     "data": {
      "text/plain": [
       "[1, 4, 9, 16, 25, 36, 49, 64, 81, 100]"
      ]
     },
     "execution_count": 69,
     "metadata": {},
     "output_type": "execute_result"
    }
   ],
   "source": [
    "l=[1, 2, 3, 4, 5, 6, 7, 8, 9, 10]\n",
    "list(map((lambda x:x*x),l))"
   ]
  },
  {
   "cell_type": "markdown",
   "id": "3bbded08-fc55-4667-89bf-96f72e33209e",
   "metadata": {},
   "source": [
    "Q3. Write a python program to convert the given list of integers into a tuple of strings. Use map and \n",
    "lambda functions\n",
    "\n",
    "\n",
    "Given String: [1, 2, 3, 4, 5, 6, 7, 8, 9, 10]\n",
    "\n",
    "Expected output: ('1', '2', '3', '4', '5', '6', '7', '8', '9', '10')"
   ]
  },
  {
   "cell_type": "markdown",
   "id": "29fcfa74-9cfc-49c7-9887-ce79cf11e442",
   "metadata": {},
   "source": [
    "A3. "
   ]
  },
  {
   "cell_type": "code",
   "execution_count": 70,
   "id": "f4597b9c-b6e4-4daf-9c30-de90d43a846e",
   "metadata": {},
   "outputs": [
    {
     "data": {
      "text/plain": [
       "(1, 2, 3, 4, 5, 6, 7, 8, 9, 10)"
      ]
     },
     "execution_count": 70,
     "metadata": {},
     "output_type": "execute_result"
    }
   ],
   "source": [
    "l=[1, 2, 3, 4, 5, 6, 7, 8, 9, 10]\n",
    "tuple(map((lambda x:x),l))"
   ]
  },
  {
   "cell_type": "markdown",
   "id": "5e551892-4bba-4c38-a79a-f1011be72038",
   "metadata": {},
   "source": [
    "Q4.  Write a python program using reduce function to compute the product of a list containing numbers \n",
    "from 1 to 25."
   ]
  },
  {
   "cell_type": "markdown",
   "id": "b3c777ac-6972-47bb-ac3b-39b16756e032",
   "metadata": {},
   "source": [
    "A4. "
   ]
  },
  {
   "cell_type": "code",
   "execution_count": 71,
   "id": "c703f64d-1b4d-4ef1-95ca-e9d15044d062",
   "metadata": {},
   "outputs": [],
   "source": [
    "from functools import reduce"
   ]
  },
  {
   "cell_type": "code",
   "execution_count": 72,
   "id": "b46230b2-230e-4802-a9f4-9360b76c79f9",
   "metadata": {},
   "outputs": [
    {
     "data": {
      "text/plain": [
       "15511210043330985984000000"
      ]
     },
     "execution_count": 72,
     "metadata": {},
     "output_type": "execute_result"
    }
   ],
   "source": [
    "l=[]\n",
    "for i in range (1,26):\n",
    "    l.append(i)\n",
    "reduce(lambda x,y : x*y , l)"
   ]
  },
  {
   "cell_type": "markdown",
   "id": "c4e2adce-98cb-4662-a9dc-5627a778893e",
   "metadata": {},
   "source": [
    "Q5. Write a python program to filter the numbers in a given list that are divisible by 2 and 3 using the \n",
    "filter function.\n",
    "\n",
    "\n",
    "[2, 3, 6, 9, 27, 60, 90, 120, 55, 46]"
   ]
  },
  {
   "cell_type": "markdown",
   "id": "4d88fbea-f305-4bfb-8603-e91268655ebf",
   "metadata": {},
   "source": [
    "A5. "
   ]
  },
  {
   "cell_type": "code",
   "execution_count": 73,
   "id": "48ba8b85-815c-4781-97cf-9a47335a893b",
   "metadata": {},
   "outputs": [
    {
     "data": {
      "text/plain": [
       "[6, 60, 90, 120]"
      ]
     },
     "execution_count": 73,
     "metadata": {},
     "output_type": "execute_result"
    }
   ],
   "source": [
    "l=[2, 3, 6, 9, 27, 60, 90, 120, 55, 46]\n",
    "list(filter((lambda x : x%2==0 and x%3==0),l))"
   ]
  },
  {
   "cell_type": "markdown",
   "id": "0778f84b-28cd-4271-90a8-72519677b817",
   "metadata": {},
   "source": [
    "Q6. Write a python program to find palindromes in the given list of strings using lambda and filter \n",
    "function.\n",
    "\n",
    "\n",
    "['python', 'php', 'aba', 'radar', 'level']"
   ]
  },
  {
   "cell_type": "code",
   "execution_count": 74,
   "id": "6af530ba-630b-4f7f-9d94-e6cffe238da3",
   "metadata": {},
   "outputs": [
    {
     "name": "stdout",
     "output_type": "stream",
     "text": [
      "PALINDROMES ARE  ['php', 'aba', 'radar', 'level']\n"
     ]
    }
   ],
   "source": [
    "l=['python', 'php', 'aba', 'radar', 'level']\n",
    "print(f\"PALINDROMES ARE \", list(filter(lambda x : x==\"\".join(reversed(x)),l)))"
   ]
  }
 ],
 "metadata": {
  "kernelspec": {
   "display_name": "Python 3 (ipykernel)",
   "language": "python",
   "name": "python3"
  },
  "language_info": {
   "codemirror_mode": {
    "name": "ipython",
    "version": 3
   },
   "file_extension": ".py",
   "mimetype": "text/x-python",
   "name": "python",
   "nbconvert_exporter": "python",
   "pygments_lexer": "ipython3",
   "version": "3.10.8"
  }
 },
 "nbformat": 4,
 "nbformat_minor": 5
}
